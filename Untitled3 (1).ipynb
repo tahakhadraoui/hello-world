{
 "cells": [
  {
   "cell_type": "code",
   "execution_count": 5,
   "id": "b0679c52",
   "metadata": {},
   "outputs": [
    {
     "name": "stdout",
     "output_type": "stream",
     "text": [
      "[2002, 2009, 2016, 2023, 2037, 2044, 2051, 2058, 2072, 2079, 2086, 2093, 2107, 2114, 2121, 2128, 2142, 2149, 2156, 2163, 2177, 2184, 2191, 2198, 2212, 2219, 2226, 2233, 2247, 2254, 2261, 2268, 2282, 2289, 2296, 2303, 2317, 2324, 2331, 2338, 2352, 2359, 2366, 2373, 2387, 2394, 2401, 2408, 2422, 2429, 2436, 2443, 2457, 2464, 2471, 2478, 2492, 2499, 2506, 2513, 2527, 2534, 2541, 2548, 2562, 2569, 2576, 2583, 2597, 2604, 2611, 2618, 2632, 2639, 2646, 2653, 2667, 2674, 2681, 2688, 2702, 2709, 2716, 2723, 2737, 2744, 2751, 2758, 2772, 2779, 2786, 2793, 2807, 2814, 2821, 2828, 2842, 2849, 2856, 2863, 2877, 2884, 2891, 2898, 2912, 2919, 2926, 2933, 2947, 2954, 2961, 2968, 2982, 2989, 2996, 3003, 3017, 3024, 3031, 3038, 3052, 3059, 3066, 3073, 3087, 3094, 3101, 3108, 3122, 3129, 3136, 3143, 3157, 3164, 3171, 3178, 3192, 3199]\n"
     ]
    }
   ],
   "source": [
    "list=[]\n",
    "for x in range(2000,3201):\n",
    "    if((x%7==0)and(x%5!=0)):\n",
    "        list.append(x)\n",
    "print(list)\n",
    "\n",
    "    "
   ]
  },
  {
   "cell_type": "code",
   "execution_count": 12,
   "id": "707deb9f",
   "metadata": {},
   "outputs": [
    {
     "name": "stdout",
     "output_type": "stream",
     "text": [
      "donner le nombre6\n",
      "720\n"
     ]
    }
   ],
   "source": [
    "x=int(input(\"donner le nombre:\"))\n",
    "if(x>0):\n",
    "    for i in range(1,x):\n",
    "        x=x*i\n",
    "elif(x==0):\n",
    "    x=1\n",
    "else:\n",
    "    print(\"erreur\")\n",
    "print(x)"
   ]
  },
  {
   "cell_type": "code",
   "execution_count": 11,
   "id": "402bc999",
   "metadata": {},
   "outputs": [
    {
     "name": "stdout",
     "output_type": "stream",
     "text": [
      "donner le nombre5\n",
      "{1: 1, 2: 4, 3: 9, 4: 16}\n"
     ]
    }
   ],
   "source": [
    "n=int(input(\"donner le nombre\"))\n",
    "d=dict()\n",
    "for i in range(1,n):\n",
    "    d[i]=i*i\n",
    "print(d)"
   ]
  },
  {
   "cell_type": "code",
   "execution_count": 18,
   "id": "3370c6d3",
   "metadata": {},
   "outputs": [
    {
     "name": "stdout",
     "output_type": "stream",
     "text": [
      "donner indice6\n",
      "donner la chaineggt\n",
      "erreur\n"
     ]
    }
   ],
   "source": [
    "n=int(input(\"donner indice\"))\n",
    "ch=input(\"donner la chaine\")\n",
    "if(n<=len(ch)):\n",
    "    sh=ch[:n-1]+ch[n:]\n",
    "    print(sh)\n",
    "else:\n",
    "    print(\"erreur\")\n",
    "    "
   ]
  },
  {
   "cell_type": "code",
   "execution_count": 32,
   "id": "71e3160e",
   "metadata": {},
   "outputs": [
    {
     "name": "stdout",
     "output_type": "stream",
     "text": [
      "[[0 1]\n",
      " [2 3]\n",
      " [4 5]]\n"
     ]
    }
   ],
   "source": [
    "import numpy as np \n",
    "l=np.array([[0,1],[2,3],[4,5]])\n",
    "list=l.tolist()\n",
    "print(l)"
   ]
  },
  {
   "cell_type": "code",
   "execution_count": 29,
   "id": "a69f771f",
   "metadata": {},
   "outputs": [
    {
     "name": "stdout",
     "output_type": "stream",
     "text": [
      "[[ 1. -1.]\n",
      " [-1.  1.]]\n"
     ]
    }
   ],
   "source": [
    "import numpy as np \n",
    "l=np.array([0,1,2])\n",
    "n=np.array([2,1,0])\n",
    "x=np.cov(l,n)\n",
    "print(x)"
   ]
  },
  {
   "cell_type": "code",
   "execution_count": null,
   "id": "d97a56fc",
   "metadata": {},
   "outputs": [],
   "source": [
    "import math \n",
    "c=50\n",
    "h=30\n",
    "ch=\"\"\n",
    "sh=input(\"donner d\")\n",
    "l=sh.split(',')\n",
    "for i in range(len(l)):\n",
    "    l[i]=int(l[i])\n",
    "    l[i]=math.sqrt((2*c*l[i])/h)\n",
    "    l[i]=round(l[i])\n",
    "    ch=ch+str(l[i])+','\n",
    "print(ch)\n",
    "    \n",
    "\n",
    "    \n",
    "    "
   ]
  },
  {
   "cell_type": "code",
   "execution_count": null,
   "id": "d4c90d3e",
   "metadata": {},
   "outputs": [],
   "source": [
    "100,150,180\n"
   ]
  },
  {
   "cell_type": "code",
   "execution_count": null,
   "id": "57db35e7",
   "metadata": {},
   "outputs": [],
   "source": []
  },
  {
   "cell_type": "code",
   "execution_count": null,
   "id": "f9fd2222",
   "metadata": {},
   "outputs": [],
   "source": []
  }
 ],
 "metadata": {
  "kernelspec": {
   "display_name": "Python 3",
   "language": "python",
   "name": "python3"
  },
  "language_info": {
   "codemirror_mode": {
    "name": "ipython",
    "version": 3
   },
   "file_extension": ".py",
   "mimetype": "text/x-python",
   "name": "python",
   "nbconvert_exporter": "python",
   "pygments_lexer": "ipython3",
   "version": "3.8.8"
  }
 },
 "nbformat": 4,
 "nbformat_minor": 5
}
